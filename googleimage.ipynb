{
  "nbformat": 4,
  "nbformat_minor": 0,
  "metadata": {
    "colab": {
      "provenance": [],
      "authorship_tag": "ABX9TyOkD54tn02jPWf+XQi0TRNX",
      "include_colab_link": true
    },
    "kernelspec": {
      "name": "python3",
      "display_name": "Python 3"
    },
    "language_info": {
      "name": "python"
    }
  },
  "cells": [
    {
      "cell_type": "markdown",
      "metadata": {
        "id": "view-in-github",
        "colab_type": "text"
      },
      "source": [
        "<a href=\"https://colab.research.google.com/github/yashrohilla25/Googleimagedown/blob/main/googleimage.ipynb\" target=\"_parent\"><img src=\"https://colab.research.google.com/assets/colab-badge.svg\" alt=\"Open In Colab\"/></a>"
      ]
    },
    {
      "cell_type": "code",
      "source": [
        "pip install python-dotenv\n"
      ],
      "metadata": {
        "colab": {
          "base_uri": "https://localhost:8080/"
        },
        "id": "TV_-uR0S_oWs",
        "outputId": "8b350601-7aa6-40ea-899d-b31f52577201"
      },
      "execution_count": 2,
      "outputs": [
        {
          "output_type": "stream",
          "name": "stdout",
          "text": [
            "Collecting python-dotenv\n",
            "  Downloading python_dotenv-1.0.1-py3-none-any.whl.metadata (23 kB)\n",
            "Downloading python_dotenv-1.0.1-py3-none-any.whl (19 kB)\n",
            "Installing collected packages: python-dotenv\n",
            "Successfully installed python-dotenv-1.0.1\n"
          ]
        }
      ]
    },
    {
      "cell_type": "code",
      "source": [
        "SENDER_EMAIL=rohillayash251203@gmail.com\n",
        "SENDER_PASSWORD=your_app_password\n",
        "API_KEY=your_google_api_key\n",
        "CX=your_google_cx\n"
      ],
      "metadata": {
        "id": "Zj3DVUCJ_9UF"
      },
      "execution_count": null,
      "outputs": []
    },
    {
      "cell_type": "code",
      "source": [
        ".env\n"
      ],
      "metadata": {
        "id": "szwNimDBAFQI"
      },
      "execution_count": null,
      "outputs": []
    },
    {
      "cell_type": "code",
      "source": [
        "import os\n",
        "import requests\n",
        "import zipfile\n",
        "import smtplib\n",
        "from email.mime.multipart import MIMEMultipart\n",
        "from email.mime.base import MIMEBase\n",
        "from email.mime.text import MIMEText\n",
        "from email import encoders\n",
        "import shutil\n",
        "from dotenv import load_dotenv\n",
        "\n",
        "# Load environment variables from a .env file\n",
        "load_dotenv()\n",
        "\n",
        "def search_and_download_images(query, num_images, api_key, cx, download_folder='images'):\n",
        "    if not os.path.exists(download_folder):\n",
        "        os.makedirs(download_folder)\n",
        "\n",
        "    url = \"https://www.googleapis.com/customsearch/v1\"\n",
        "    params = {\n",
        "        'q': query,\n",
        "        'num': 10,  # Max 10 images per request\n",
        "        'imgSize': 'medium',\n",
        "        'searchType': 'image',\n",
        "        'key': api_key,\n",
        "        'cx': cx,\n",
        "        'fileType': 'jpg|png|gif',\n",
        "    }\n",
        "\n",
        "    downloaded_images = []\n",
        "    start_index = 1\n",
        "\n",
        "    while len(downloaded_images) < num_images and start_index <= 91:\n",
        "        params['start'] = start_index\n",
        "        try:\n",
        "            response = requests.get(url, params=params)\n",
        "            response.raise_for_status()\n",
        "            results = response.json()\n",
        "\n",
        "            if 'items' not in results:\n",
        "                break\n",
        "\n",
        "            for item in results['items']:\n",
        "                if len(downloaded_images) >= num_images:\n",
        "                    break\n",
        "\n",
        "                image_url = item['link']\n",
        "                try:\n",
        "                    img_response = requests.get(image_url, timeout=10)\n",
        "                    img_response.raise_for_status()\n",
        "\n",
        "                    file_extension = os.path.splitext(image_url)[-1].lower()\n",
        "                    if file_extension not in ['.jpg', '.jpeg', '.png', '.gif']:\n",
        "                        file_extension = '.jpg'\n",
        "\n",
        "                    image_path = f\"{download_folder}/image_{len(downloaded_images)+1}{file_extension}\"\n",
        "                    with open(image_path, 'wb') as f:\n",
        "                        f.write(img_response.content)\n",
        "                    downloaded_images.append(image_path)\n",
        "                except requests.RequestException as e:\n",
        "                    print(f\"Error downloading image: {e}\")\n",
        "\n",
        "            start_index += 10\n",
        "        except requests.RequestException as e:\n",
        "            print(f\"Error in API request: {e}\")\n",
        "            break\n",
        "\n",
        "    return downloaded_images\n",
        "\n",
        "def compress_images_to_zip(image_paths, zip_name='images.zip'):\n",
        "    with zipfile.ZipFile(zip_name, 'w') as zipf:\n",
        "        for image_path in image_paths:\n",
        "            zipf.write(image_path, os.path.basename(image_path))\n",
        "    return zip_name\n",
        "\n",
        "def send_email_with_attachment(receiver_email, subject, body, attachment_path, sender_email, sender_password):\n",
        "    msg = MIMEMultipart()\n",
        "    msg['From'] = sender_email\n",
        "    msg['To'] = receiver_email\n",
        "    msg['Subject'] = subject\n",
        "\n",
        "    msg.attach(MIMEText(body, 'plain'))\n",
        "\n",
        "    with open(attachment_path, \"rb\") as attachment:\n",
        "        part = MIMEBase('application', 'octet-stream')\n",
        "        part.set_payload(attachment.read())\n",
        "\n",
        "    encoders.encode_base64(part)\n",
        "    part.add_header('Content-Disposition', f\"attachment; filename= {os.path.basename(attachment_path)}\")\n",
        "    msg.attach(part)\n",
        "\n",
        "    try:\n",
        "        with smtplib.SMTP('smtp.gmail.com', 587) as server:\n",
        "            server.starttls()\n",
        "            server.login(sender_email, sender_password)\n",
        "            server.sendmail(sender_email, receiver_email, msg.as_string())\n",
        "        print(\"Email sent successfully!\")\n",
        "    except smtplib.SMTPAuthenticationError:\n",
        "        print(\"Failed to authenticate. Please check your email and App Password.\")\n",
        "    except Exception as e:\n",
        "        print(f\"Failed to send email: {e}\")\n",
        "\n",
        "# Main execution\n",
        "def main():\n",
        "    # Load sensitive information from environment variables\n",
        "    sender_email = os.getenv('SENDER_EMAIL')\n",
        "    sender_password = os.getenv('SENDER_PASSWORD')\n",
        "    api_key = os.getenv('API_KEY')\n",
        "    cx = os.getenv('CX')\n",
        "\n",
        "    if not all([sender_email, sender_password, api_key, cx]):\n",
        "        print(\"Error: Missing environment variables. Please set them in a .env file.\")\n",
        "        return\n",
        "\n",
        "    receiver_email = input(\"Enter the receiver's email address: \")\n",
        "    query = input(\"Enter the search query for images: \")\n",
        "    num_images = int(input(\"Enter the number of images to download (max 100): \"))\n",
        "\n",
        "    # Download images\n",
        "    downloaded_images = search_and_download_images(query, num_images, api_key, cx)\n",
        "\n",
        "    if len(downloaded_images) < num_images:\n",
        "        print(f\"Only {len(downloaded_images)} images were downloaded.\")\n",
        "\n",
        "    # Compress images to a zip file\n",
        "    zip_file = compress_images_to_zip(downloaded_images)\n",
        "\n",
        "    # Send email with the zip file attached\n",
        "    send_email_with_attachment(\n",
        "        receiver_email=receiver_email,\n",
        "        subject=f'Your requested images for \"{query}\"',\n",
        "        body=f'Here are the {len(downloaded_images)} images you requested for the search query: \"{query}\"',\n",
        "        attachment_path=zip_file,\n",
        "        sender_email=sender_email,\n",
        "        sender_password=sender_password\n",
        "    )\n",
        "\n",
        "    # Clean up: Remove downloaded files and zip\n",
        "    os.remove(zip_file)\n",
        "    for file in downloaded_images:\n",
        "        os.remove(file)\n",
        "    shutil.rmtree(os.path.dirname(downloaded_images[0]))\n",
        "\n",
        "if __name__ == \"__main__\":\n",
        "    main()\n"
      ],
      "metadata": {
        "colab": {
          "base_uri": "https://localhost:8080/"
        },
        "id": "-1C8CLkZ_tDn",
        "outputId": "47da2790-f394-4a7a-8f86-09389b3e2364"
      },
      "execution_count": 3,
      "outputs": [
        {
          "output_type": "stream",
          "name": "stdout",
          "text": [
            "Error: Missing environment variables. Please set them in a .env file.\n"
          ]
        }
      ]
    }
  ]
}